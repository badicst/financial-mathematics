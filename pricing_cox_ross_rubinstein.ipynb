{
 "cells": [
  {
   "cell_type": "code",
   "execution_count": 74,
   "metadata": {
    "collapsed": false
   },
   "outputs": [],
   "source": [
    "from math import exp, sqrt\n",
    "class Crr:\n",
    "    def __init__(self, init_price, t, delta, r, sigma=None, u=None, d=None):\n",
    "        \"\"\"Initialize the Cox-Ross-Rubinstein model\"\"\"\n",
    "        self.init_price=init_price\n",
    "        self.sigma=sigma\n",
    "        self.t=t  # terminal time\n",
    "        self.delta=delta # delta t, e.g.: 1/12 if the price changes each month\n",
    "        self.u=exp(self.sigma*sqrt(self.delta)) if sigma else u\n",
    "        self.d=exp(-self.sigma*sqrt(self.delta)) if sigma else d       \n",
    "        self.r=r\n",
    "        self.q=(exp(self.r*self.delta)-self.d)/(self.u-self.d)\n",
    "        self.tree=None\n",
    "        \n",
    "    def create(self, current_depth=0, price=None):\n",
    "        \"\"\"This method creates a dictionary which represents the binomial tree\"\"\"\n",
    "        if price==None:\n",
    "            price=self.init_price\n",
    "        steps=self.t/self.delta\n",
    "        if current_depth >= steps:\n",
    "            return {\"price\": price, \"isleaf\":True}\n",
    "        up_tree = self.create(current_depth + 1, price*self.u)        \n",
    "        down_tree = self.create(current_depth + 1, price*self.d)\n",
    "        return {'price': price, 'up': up_tree, 'down': down_tree, 'isleaf':False}\n",
    "    \n",
    "    def add_option(self, tree, strike):\n",
    "        \"\"\"Adds terminal payoff of the call option to the leafs of the tree\"\"\"\n",
    "        if tree['isleaf']:\n",
    "            tree[\"option\"]=max(tree['price']-strike,0 )\n",
    "        else:\n",
    "            self.add_option(tree['up'], strike)\n",
    "            self.add_option(tree['down'], strike)\n",
    "            #tree[\"option\"]=None\n",
    "            \n",
    "    def add_put_option(self, tree, strike):\n",
    "        \"\"\"Adds terminal payoff of the put option to the leafs of the tree\"\"\"\n",
    "        if tree['isleaf']:\n",
    "            tree[\"option\"]=max(strike-tree['price'],0 )\n",
    "        else:\n",
    "            self.add_put_option(tree['up'], strike)\n",
    "            self.add_put_option(tree['down'], strike)\n",
    "            #tree[\"option\"]=None\n",
    "            \n",
    "    def option_price(self, tree):\n",
    "        \"\"\"gives the price of the European option\"\"\"\n",
    "        if tree['isleaf']:\n",
    "            return tree[\"option\"]\n",
    "        return exp(-self.r*self.delta)*(self.q*self.option_price(tree['up'])+ \\\n",
    "                              (1-self.q)*self.option_price(tree['down']))\n",
    "    \n",
    "    def american_call_option_price(self, tree, strike):\n",
    "        \"\"\"gives the price of the American option\"\"\"\n",
    "        if tree['isleaf']:\n",
    "            return tree[\"option\"]\n",
    "        return max(tree[\"price\"]-strike, exp(-self.r*self.delta)* \\\n",
    "                   (self.q*self.american_put_option_price(tree['up'], strike)+ \\\n",
    "                        (1-self.q)*self.american_put_option_price(tree['down'], strike)))\n",
    "    def american_put_option_price(self, tree, strike):\n",
    "        \"\"\"gives the price of the American option\"\"\"\n",
    "        if tree['isleaf']:\n",
    "            return tree[\"option\"]\n",
    "        return max(strike-tree[\"price\"], exp(-self.r*self.delta)* \\\n",
    "                   (self.q*self.american_put_option_price(tree['up'], strike)+ \\\n",
    "                        (1-self.q)*self.american_put_option_price(tree['down'], strike)))\n",
    "\n",
    "    def price(self, strike, put=False, american=False):\n",
    "        \"\"\"Cretaes the tree, adds terminal payoff to the tree and gives prices of any option\"\"\"\n",
    "        if self.tree==None:\n",
    "            self.tree=self.create()\n",
    "        tree=dict(self.tree)\n",
    "        if put==False:\n",
    "            self.add_option(tree, strike)\n",
    "            if american==False:\n",
    "                price=self.option_price(tree)\n",
    "            else:\n",
    "                price=self.american_put_option_price(tree, strike)\n",
    "        else:\n",
    "            self.add_put_option(tree, strike)\n",
    "            if american==False:\n",
    "                price=self.option_price(tree)\n",
    "            else:\n",
    "                price=self.american_put_option_price(tree, strike)            \n",
    "        return price\n",
    "\n"
   ]
  },
  {
   "cell_type": "code",
   "execution_count": 75,
   "metadata": {
    "collapsed": false
   },
   "outputs": [
    {
     "name": "stdout",
     "output_type": "stream",
     "text": [
      "put, European:  6.24570844521\n",
      "put, American:  7.4284019027\n"
     ]
    }
   ],
   "source": [
    "crr=Crr(50, 2, 1, 0.05, 0.3)\n",
    "#print \"call, European: \", crr.price(52)\n",
    "print \"put, European: \", crr.price(52, True)\n",
    "#print \"call, American: \", crr.price(52, False, True)\n",
    "print \"put, American: \", crr.price(52, True, True)  #Hall: 7th edition p.: 250-251"
   ]
  },
  {
   "cell_type": "code",
   "execution_count": 76,
   "metadata": {
    "collapsed": false
   },
   "outputs": [
    {
     "name": "stdout",
     "output_type": "stream",
     "text": [
      "{'down': {'down': {'price': 27.440581804701324, 'isleaf': True}, 'price': 37.040911034085894, 'up': {'price': 50.00000000000001, 'isleaf': True}, 'isleaf': False}, 'price': 50, 'up': {'down': {'price': 50.0, 'isleaf': True}, 'price': 67.49294037880016, 'up': {'price': 91.10594001952546, 'isleaf': True}, 'isleaf': False}, 'isleaf': False}\n"
     ]
    }
   ],
   "source": [
    "tree=crr.create()\n",
    "\n",
    "print tree"
   ]
  },
  {
   "cell_type": "code",
   "execution_count": 77,
   "metadata": {
    "collapsed": false
   },
   "outputs": [
    {
     "name": "stdout",
     "output_type": "stream",
     "text": [
      "50 67.4929403788 91.1059400195\n"
     ]
    }
   ],
   "source": [
    "\n",
    "print tree[\"price\"], tree[\"up\"][\"price\"], tree[\"up\"][\"up\"][\"price\"]"
   ]
  },
  {
   "cell_type": "code",
   "execution_count": 78,
   "metadata": {
    "collapsed": false
   },
   "outputs": [
    {
     "name": "stdout",
     "output_type": "stream",
     "text": [
      "put, European:  4.1926542806\n"
     ]
    }
   ],
   "source": [
    "#a simple model, without giving sigma (sigma=None)\n",
    "#Hall: 7th edition, p 246:\n",
    "crr246=Crr(50, 2, 1, 0.05, None, 1.2,0.8)\n",
    "print \"put, European: \", crr246.price(52, True)"
   ]
  },
  {
   "cell_type": "code",
   "execution_count": 79,
   "metadata": {
    "collapsed": false
   },
   "outputs": [
    {
     "name": "stdout",
     "output_type": "stream",
     "text": [
      "put, American:  5.0896324742\n"
     ]
    }
   ],
   "source": [
    "#Hall: 7th edition, p 247:\n",
    "crr247=Crr(50, 2, 1, 0.05, None, 1.2,0.8)\n",
    "print \"put, American: \", crr247.price(52, True, True)"
   ]
  },
  {
   "cell_type": "code",
   "execution_count": 80,
   "metadata": {
    "collapsed": false
   },
   "outputs": [
    {
     "name": "stdout",
     "output_type": "stream",
     "text": [
      "put, American:  7.67088873475\n"
     ]
    }
   ],
   "source": [
    "#Hall: 7th edition, p 251 five steps:\n",
    "crr251=Crr(50, 2, 0.4, 0.05, 0.3) # numer of steps=2/0.4\n",
    "print \"put, American: \", crr251.price(52, True, True)"
   ]
  },
  {
   "cell_type": "code",
   "execution_count": 81,
   "metadata": {
    "collapsed": false
   },
   "outputs": [
    {
     "name": "stdout",
     "output_type": "stream",
     "text": [
      "0.512599127895\n",
      "1.10517091808\n",
      "call, European:  53.9313421959\n"
     ]
    }
   ],
   "source": [
    "#p 252 five steps:\n",
    "crr252=Crr(810, 0.5, 0.25, 0.03, 0.2) # numer of steps=0.5/0.25\n",
    "print crr252.q \n",
    "print crr252.u\n",
    "print \"call, European: \", crr252.price(800, False, False)  # 53.93 not match book's result 53.39, typo?"
   ]
  },
  {
   "cell_type": "code",
   "execution_count": 82,
   "metadata": {
    "collapsed": false
   },
   "outputs": [
    {
     "name": "stdout",
     "output_type": "stream",
     "text": [
      "0.467309192991\n",
      "1.03524800477\n",
      "put, American:  0.0119332055349\n",
      "0.61 0.631501282911 0.653760443145\n"
     ]
    }
   ],
   "source": [
    "#Hall: 7th edition, p 253 options on currencies:\n",
    "crr253=Crr(0.61, 0.25, 1.0/12, -0.02, 0.12) # numer of steps=0.25/1/12\n",
    "print crr253.q  #doesn't match\n",
    "print crr253.u\n",
    "print \"put, American: \", crr253.price(0.6, True, True) #0.0119 doesn't match 0.019 typo?\n",
    "print crr253.tree[\"price\"], crr253.tree[\"up\"][\"price\"], crr253.tree[\"up\"][\"up\"][\"price\"]"
   ]
  },
  {
   "cell_type": "code",
   "execution_count": 83,
   "metadata": {
    "collapsed": false
   },
   "outputs": [
    {
     "name": "stdout",
     "output_type": "stream",
     "text": [
      "0.462570154656\n",
      "1.16183424273\n",
      "put, American:  2.83563515711\n",
      "31 36.0168615246 41.8456230349 48.6176777502\n"
     ]
    }
   ],
   "source": [
    "#Hall: 7th edition, p 255 american put option  on futures:\n",
    "crr255=Crr(31, 0.75, 0.25, 0.05, 0.3) # numer of steps=0.5/0.25\n",
    "# beacuse in a risk neutral world, the expected growth rate of futures price should be zero\n",
    "crr255.q=(1-crr255.d)/(crr255.u-crr255.d)\n",
    "print crr255.q  #doesn't match\n",
    "print crr255.u\n",
    "print \"put, American: \", crr255.price(30, True, True) \n",
    "print crr255.tree[\"price\"], crr255.tree[\"up\"][\"price\"], crr255.tree[\"up\"][\"up\"][\"price\"], crr255.tree[\"up\"][\"up\"][\"up\"][\"price\"]"
   ]
  },
  {
   "cell_type": "code",
   "execution_count": null,
   "metadata": {
    "collapsed": true
   },
   "outputs": [],
   "source": []
  },
  {
   "cell_type": "code",
   "execution_count": null,
   "metadata": {
    "collapsed": true
   },
   "outputs": [],
   "source": []
  }
 ],
 "metadata": {
  "kernelspec": {
   "display_name": "Python 2",
   "language": "python",
   "name": "python2"
  },
  "language_info": {
   "codemirror_mode": {
    "name": "ipython",
    "version": 2
   },
   "file_extension": ".py",
   "mimetype": "text/x-python",
   "name": "python",
   "nbconvert_exporter": "python",
   "pygments_lexer": "ipython2",
   "version": "2.7.10"
  }
 },
 "nbformat": 4,
 "nbformat_minor": 0
}
