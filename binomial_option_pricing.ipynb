{
 "cells": [
  {
   "cell_type": "markdown",
   "metadata": {},
   "source": [
    "#Pricing Option in Binomial Model\n",
    "##Building a tree"
   ]
  },
  {
   "cell_type": "markdown",
   "metadata": {
    "collapsed": true
   },
   "source": [
    "##Simple case"
   ]
  },
  {
   "cell_type": "code",
   "execution_count": 1,
   "metadata": {
    "collapsed": false
   },
   "outputs": [],
   "source": [
    "def binomial_tree_create(price, current_depth, max_depth):\n",
    "    if current_depth >= max_depth:\n",
    "        return {\"price\": price, \"isleaf\":True}\n",
    "    up_tree = binomial_tree_create(price*1.5, current_depth + 1, max_depth)        \n",
    "    down_tree = binomial_tree_create(price*0.5, current_depth + 1, max_depth)\n",
    "    return {'price': price, 'up': up_tree, 'down': down_tree, 'isleaf':False}"
   ]
  },
  {
   "cell_type": "markdown",
   "metadata": {},
   "source": [
    "###The tree:"
   ]
  },
  {
   "cell_type": "code",
   "execution_count": 2,
   "metadata": {
    "collapsed": false
   },
   "outputs": [
    {
     "data": {
      "text/plain": [
       "{'down': {'down': {'isleaf': True, 'price': 25.0},\n",
       "  'isleaf': False,\n",
       "  'price': 50.0,\n",
       "  'up': {'isleaf': True, 'price': 75.0}},\n",
       " 'isleaf': False,\n",
       " 'price': 100,\n",
       " 'up': {'down': {'isleaf': True, 'price': 75.0},\n",
       "  'isleaf': False,\n",
       "  'price': 150.0,\n",
       "  'up': {'isleaf': True, 'price': 225.0}}}"
      ]
     },
     "execution_count": 2,
     "metadata": {},
     "output_type": "execute_result"
    }
   ],
   "source": [
    "binomial_tree=binomial_tree_create(100, 0, 2)\n",
    "binomial_tree"
   ]
  },
  {
   "cell_type": "markdown",
   "metadata": {},
   "source": [
    "###A trajectory"
   ]
  },
  {
   "cell_type": "code",
   "execution_count": 3,
   "metadata": {
    "collapsed": false
   },
   "outputs": [
    {
     "name": "stdout",
     "output_type": "stream",
     "text": [
      "100 50.0 75.0\n"
     ]
    }
   ],
   "source": [
    "print binomial_tree[\"price\"], binomial_tree[\"down\"][\"price\"], binomial_tree[\"down\"][\"up\"][\"price\"]"
   ]
  },
  {
   "cell_type": "markdown",
   "metadata": {},
   "source": [
    "#Adding the option payoff to the tree\n",
    "##(modifying the tree)"
   ]
  },
  {
   "cell_type": "code",
   "execution_count": 4,
   "metadata": {
    "collapsed": false,
    "scrolled": true
   },
   "outputs": [
    {
     "data": {
      "text/plain": [
       "{'down': {'down': {'isleaf': True, 'option': 0, 'price': 25.0},\n",
       "  'isleaf': False,\n",
       "  'price': 50.0,\n",
       "  'up': {'isleaf': True, 'option': 25.0, 'price': 75.0}},\n",
       " 'isleaf': False,\n",
       " 'price': 100,\n",
       " 'up': {'down': {'isleaf': True, 'option': 25.0, 'price': 75.0},\n",
       "  'isleaf': False,\n",
       "  'price': 150.0,\n",
       "  'up': {'isleaf': True, 'option': 175.0, 'price': 225.0}}}"
      ]
     },
     "execution_count": 4,
     "metadata": {},
     "output_type": "execute_result"
    }
   ],
   "source": [
    "\n",
    "def add_option(tree, strike):\n",
    "    if tree['isleaf']:\n",
    "        tree[\"option\"]=max(tree['price']-strike,0 )\n",
    "    else:\n",
    "        add_option(tree['up'], strike)\n",
    "        add_option(tree['down'], strike)\n",
    "        #tree[\"option\"]=None\n",
    "def add_put_option(tree, strike):\n",
    "    if tree['isleaf']:\n",
    "        tree[\"option\"]=max(strike-tree['price'],0 )\n",
    "    else:\n",
    "        add_put_option(tree['up'], strike)\n",
    "        add_put_option(tree['down'], strike)\n",
    "        #tree[\"option\"]=None\n",
    "\n",
    "binomial_tree=binomial_tree_create(100, 0, 2)    \n",
    "add_option(binomial_tree, 50)\n",
    "\n",
    "binomial_tree\n",
    "#binomial_tree\n"
   ]
  },
  {
   "cell_type": "markdown",
   "metadata": {},
   "source": [
    "##Pricing the option\n",
    "## r=0 case"
   ]
  },
  {
   "cell_type": "code",
   "execution_count": 5,
   "metadata": {
    "collapsed": false
   },
   "outputs": [
    {
     "name": "stdout",
     "output_type": "stream",
     "text": [
      "56.25\n"
     ]
    }
   ],
   "source": [
    "def option_prices(tree, q):\n",
    "    if tree['isleaf']:\n",
    "        return tree[\"option\"]\n",
    "    return q*option_prices(tree['up'], q)+(1-q)*option_prices(tree['down'],q)\n",
    "\n",
    "\n",
    "print option_prices(binomial_tree, 0.5) "
   ]
  },
  {
   "cell_type": "markdown",
   "metadata": {},
   "source": [
    "#r>0 case"
   ]
  },
  {
   "cell_type": "code",
   "execution_count": null,
   "metadata": {
    "collapsed": true
   },
   "outputs": [],
   "source": []
  },
  {
   "cell_type": "markdown",
   "metadata": {
    "collapsed": true
   },
   "source": [
    "#Cox-Ross-Rubinstein model"
   ]
  },
  {
   "cell_type": "code",
   "execution_count": 6,
   "metadata": {
    "collapsed": false
   },
   "outputs": [],
   "source": [
    "from math import sqrt,exp\n"
   ]
  },
  {
   "cell_type": "code",
   "execution_count": 7,
   "metadata": {
    "collapsed": false
   },
   "outputs": [],
   "source": [
    "def CRR_create(price, current_depth, T, sigma, delta):\n",
    "    steps=T/delta\n",
    "    if current_depth >= steps:\n",
    "        return {\"price\": price, \"isleaf\":True}\n",
    "    up_tree = CRR_create(price*exp(sigma*sqrt(delta)), current_depth + 1, T, sigma, delta)        \n",
    "    down_tree = CRR_create(price*exp(-sigma*sqrt(delta)), current_depth + 1, T, sigma, delta)\n",
    "    return {'price': price, 'up': up_tree, 'down': down_tree, 'isleaf':False}"
   ]
  },
  {
   "cell_type": "code",
   "execution_count": 8,
   "metadata": {
    "collapsed": true
   },
   "outputs": [],
   "source": [
    "def risk_neutral_prob(r,delta, sigma):\n",
    "    return (exp(r*delta)-exp(-sigma*sqrt(delta)))/(exp(sigma*sqrt(delta))-exp(-sigma*sqrt(delta)))\n",
    "\n",
    "def option_price(tree, q,r, delta):\n",
    "    if tree['isleaf']:\n",
    "        return tree[\"option\"]\n",
    "    return exp(-r*delta)*(q*option_price(tree['up'], q, r, delta)+(1-q)*option_price(tree['down'],q, r, delta))"
   ]
  },
  {
   "cell_type": "code",
   "execution_count": 9,
   "metadata": {
    "collapsed": false
   },
   "outputs": [],
   "source": [
    "crr=CRR_create(50, 0, 2, 0.3, 1)"
   ]
  },
  {
   "cell_type": "code",
   "execution_count": 10,
   "metadata": {
    "collapsed": false
   },
   "outputs": [
    {
     "name": "stdout",
     "output_type": "stream",
     "text": [
      "50 67.4929403788 91.1059400195\n"
     ]
    }
   ],
   "source": [
    "print crr[\"price\"], crr[\"up\"][\"price\"], crr[\"up\"][\"up\"][\"price\"]"
   ]
  },
  {
   "cell_type": "code",
   "execution_count": 11,
   "metadata": {
    "collapsed": false
   },
   "outputs": [
    {
     "data": {
      "text/plain": [
       "0.5097408651817704"
      ]
     },
     "execution_count": 11,
     "metadata": {},
     "output_type": "execute_result"
    }
   ],
   "source": [
    "add_put_option(crr, 52)\n",
    "q=risk_neutral_prob(0.05,1, 0.3)\n",
    "q"
   ]
  },
  {
   "cell_type": "code",
   "execution_count": 12,
   "metadata": {
    "collapsed": false
   },
   "outputs": [
    {
     "name": "stdout",
     "output_type": "stream",
     "text": [
      "6.24570844521\n"
     ]
    }
   ],
   "source": [
    "print option_price(crr, q, 0.05, 1) "
   ]
  },
  {
   "cell_type": "markdown",
   "metadata": {},
   "source": [
    "#American option\n"
   ]
  },
  {
   "cell_type": "code",
   "execution_count": 13,
   "metadata": {
    "collapsed": true
   },
   "outputs": [],
   "source": [
    "def american_put_option_prices(tree, q, strike, r, delta):\n",
    "    if tree['isleaf']:\n",
    "        return tree[\"option\"]\n",
    "    return max(strike-tree[\"price\"], exp(-r*delta)*(q*american_put_option_prices(tree['up'], q,\n",
    "                strike, r, delta)+(1-q)*american_put_option_prices(tree['down'],q, strike, r, delta)))"
   ]
  },
  {
   "cell_type": "code",
   "execution_count": 14,
   "metadata": {
    "collapsed": false
   },
   "outputs": [
    {
     "data": {
      "text/plain": [
       "7.428401902704835"
      ]
     },
     "execution_count": 14,
     "metadata": {},
     "output_type": "execute_result"
    }
   ],
   "source": [
    "american_put_option_prices(crr, q, 52, 0.05,1)"
   ]
  },
  {
   "cell_type": "code",
   "execution_count": 15,
   "metadata": {
    "collapsed": false
   },
   "outputs": [
    {
     "data": {
      "text/plain": [
       "{'down': {'down': {'isleaf': True,\n",
       "   'option': 24.559418195298676,\n",
       "   'price': 27.440581804701324},\n",
       "  'isleaf': False,\n",
       "  'price': 37.040911034085894,\n",
       "  'up': {'isleaf': True,\n",
       "   'option': 1.999999999999993,\n",
       "   'price': 50.00000000000001}},\n",
       " 'isleaf': False,\n",
       " 'price': 50,\n",
       " 'up': {'down': {'isleaf': True, 'option': 2.0, 'price': 50.0},\n",
       "  'isleaf': False,\n",
       "  'price': 67.49294037880016,\n",
       "  'up': {'isleaf': True, 'option': 0, 'price': 91.10594001952546}}}"
      ]
     },
     "execution_count": 15,
     "metadata": {},
     "output_type": "execute_result"
    }
   ],
   "source": [
    "crr\n"
   ]
  },
  {
   "cell_type": "code",
   "execution_count": 5,
   "metadata": {
    "collapsed": false
   },
   "outputs": [
    {
     "name": "stderr",
     "output_type": "stream",
     "text": [
      "ERROR: Cell magic `%%ipython` not found.\n"
     ]
    }
   ],
   "source": [
    "%%ipython --config-dir"
   ]
  },
  {
   "cell_type": "code",
   "execution_count": null,
   "metadata": {
    "collapsed": true
   },
   "outputs": [],
   "source": []
  },
  {
   "cell_type": "code",
   "execution_count": null,
   "metadata": {
    "collapsed": true
   },
   "outputs": [],
   "source": []
  }
 ],
 "metadata": {
  "kernelspec": {
   "display_name": "Python 2",
   "language": "python",
   "name": "python2"
  },
  "language_info": {
   "codemirror_mode": {
    "name": "ipython",
    "version": 2
   },
   "file_extension": ".py",
   "mimetype": "text/x-python",
   "name": "python",
   "nbconvert_exporter": "python",
   "pygments_lexer": "ipython2",
   "version": "2.7.10"
  }
 },
 "nbformat": 4,
 "nbformat_minor": 0
}
